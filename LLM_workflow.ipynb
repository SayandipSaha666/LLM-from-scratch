{
 "cells": [
  {
   "cell_type": "markdown",
   "id": "15d43bfd",
   "metadata": {},
   "source": [
    "### Import Tokenizer "
   ]
  },
  {
   "cell_type": "code",
   "execution_count": 1,
   "id": "48eeda87",
   "metadata": {},
   "outputs": [],
   "source": [
    "import tiktoken\n",
    "tokenizer = tiktoken.get_encoding(\"gpt2\")"
   ]
  },
  {
   "cell_type": "code",
   "execution_count": 2,
   "id": "ae362133",
   "metadata": {},
   "outputs": [],
   "source": [
    "with open('the-verdict.txt',\"r\",encoding='utf-8') as f:\n",
    "    raw_text = f.read()"
   ]
  },
  {
   "cell_type": "code",
   "execution_count": 3,
   "id": "e6055f55",
   "metadata": {},
   "outputs": [
    {
     "name": "stdout",
     "output_type": "stream",
     "text": [
      "5145\n"
     ]
    }
   ],
   "source": [
    "enc_text = tokenizer.encode(raw_text,allowed_special={\"<|endoftext|>\"})\n",
    "print(len(enc_text))"
   ]
  },
  {
   "cell_type": "markdown",
   "id": "1cfb62c5",
   "metadata": {},
   "source": [
    "### Use of Dataset and DataLoader for parellel processing"
   ]
  },
  {
   "cell_type": "code",
   "execution_count": 4,
   "id": "dae5d0e5",
   "metadata": {},
   "outputs": [],
   "source": [
    "from torch.utils.data import Dataset, DataLoader\n",
    "import torch\n",
    "class customDataset(Dataset):\n",
    "    def __init__(self,text,tokenizer,context_len,stride):\n",
    "        self.input_id = []\n",
    "        self.target_id = []\n",
    "        token_ids = tokenizer.encode(text,allowed_special={\"<|endoftext|>\"})\n",
    "        for i in range(0,len(token_ids)-context_len,stride):\n",
    "            input_chunk = token_ids[i:i+context_len]\n",
    "            target_chunk = token_ids[1+i:1+context_len+i]\n",
    "            self.input_id.append(torch.tensor(input_chunk))\n",
    "            self.target_id.append(torch.tensor(target_chunk))\n",
    "    \n",
    "    def __len__(self):\n",
    "        return len(self.input_id) # ceil((len(token_ids)-context_len)/stride) ie, no. of batches\n",
    "    \n",
    "    def __getitem__(self,idx):\n",
    "        return self.input_id[idx],self.target_id[idx]"
   ]
  },
  {
   "cell_type": "code",
   "execution_count": 5,
   "id": "782610a2",
   "metadata": {},
   "outputs": [],
   "source": [
    "def dataloader_func(text,batch_size=1,context_len=512,stride=256,shuffle = True,num_worker = 4,drop_last = True):\n",
    "    tokenizer = tiktoken.get_encoding(\"gpt2\")\n",
    "    dataset = customDataset(text,tokenizer,context_len,stride)\n",
    "    dataloader = DataLoader(dataset,batch_size = batch_size,shuffle = shuffle,drop_last = drop_last,num_workers = num_worker,pin_memory = True)\n",
    "    return dataloader"
   ]
  },
  {
   "cell_type": "code",
   "execution_count": 6,
   "id": "d11ce631",
   "metadata": {},
   "outputs": [],
   "source": [
    "dataloader = dataloader_func(raw_text,batch_size=4,context_len=4,stride=1,shuffle=True,num_worker=4,drop_last=True)"
   ]
  },
  {
   "cell_type": "code",
   "execution_count": 7,
   "id": "70218f58",
   "metadata": {},
   "outputs": [
    {
     "name": "stderr",
     "output_type": "stream",
     "text": [
      "/home/sayandip-saha/Desktop/CODING/.venv/lib/python3.12/site-packages/torch/utils/data/dataloader.py:665: UserWarning: 'pin_memory' argument is set as true but no accelerator is found, then device pinned memory won't be used.\n",
      "  warnings.warn(warn_msg)\n"
     ]
    },
    {
     "name": "stdout",
     "output_type": "stream",
     "text": [
      "Inputs:\n",
      " tensor([[  286,   366,    38,   271],\n",
      "        [   13,   520,  5493,   318],\n",
      "        [  470,   766,   703,   661],\n",
      "        [  257, 23844,   286,  7543]])\n",
      "\n",
      "Targets:\n",
      " tensor([[  366,    38,   271, 10899],\n",
      "        [  520,  5493,   318,   262],\n",
      "        [  766,   703,   661,  6687],\n",
      "        [23844,   286,  7543,   284]])\n"
     ]
    }
   ],
   "source": [
    "data_iter = iter(dataloader)\n",
    "inputs, targets = next(data_iter)\n",
    "print(\"Inputs:\\n\", inputs)\n",
    "print(\"\\nTargets:\\n\", targets)"
   ]
  },
  {
   "cell_type": "markdown",
   "id": "605f18aa",
   "metadata": {},
   "source": [
    "### Training Iteration"
   ]
  },
  {
   "cell_type": "code",
   "execution_count": 8,
   "id": "73d87fe7",
   "metadata": {},
   "outputs": [],
   "source": [
    "input_ids = inputs[0]\n",
    "target_ids = targets[0]"
   ]
  },
  {
   "cell_type": "code",
   "execution_count": 9,
   "id": "b0bd7b2d",
   "metadata": {},
   "outputs": [
    {
     "name": "stdout",
     "output_type": "stream",
     "text": [
      "Processing Batch 1:\n",
      " of --->  \"\n",
      " of \" ---> G\n",
      " of \"G ---> is\n",
      " of \"Gis ---> burn\n",
      "\n",
      "\n",
      "Processing Batch 2:\n",
      ". --->  St\n",
      ". St ---> roud\n",
      ". Stroud --->  is\n",
      ". Stroud is --->  the\n",
      "\n",
      "\n",
      "Processing Batch 3:\n",
      "'t --->  see\n",
      "'t see --->  how\n",
      "'t see how --->  people\n",
      "'t see how people --->  manage\n",
      "\n",
      "\n",
      "Processing Batch 4:\n",
      " a --->  lump\n",
      " a lump --->  of\n",
      " a lump of --->  sugar\n",
      " a lump of sugar --->  to\n",
      "\n",
      "\n"
     ]
    }
   ],
   "source": [
    "batch_size,context_size = inputs.shape\n",
    "for i in range(batch_size):\n",
    "    x = inputs[i] # [ 314,  765,  683,  284]\n",
    "    y = targets[i] # [ 765,  683,  284, 2883]\n",
    "    print(f'Processing Batch {i+1}:')\n",
    "    for j in range(1,context_size+1):\n",
    "        input = x[:j]\n",
    "        output = y[j-1]\n",
    "        print(f'{tokenizer.decode(input.tolist())} ---> {tokenizer.decode([output.item()])}')\n",
    "    print('\\n')"
   ]
  },
  {
   "cell_type": "markdown",
   "id": "9dbce870",
   "metadata": {},
   "source": [
    "### Creating token embedding and positional embedding"
   ]
  },
  {
   "cell_type": "code",
   "execution_count": 10,
   "id": "f2a30e5f",
   "metadata": {},
   "outputs": [],
   "source": [
    "import torch.nn as nn\n",
    "vocab_size = tokenizer.n_vocab # size of vocabulary \n",
    "embedding_dim = 256 # each token is projected into 256 dimension space"
   ]
  },
  {
   "cell_type": "code",
   "execution_count": 11,
   "id": "113bf8ce",
   "metadata": {},
   "outputs": [],
   "source": [
    "embedding_layer = nn.Embedding(vocab_size,embedding_dim)"
   ]
  },
  {
   "cell_type": "code",
   "execution_count": 12,
   "id": "edee1165",
   "metadata": {},
   "outputs": [
    {
     "name": "stdout",
     "output_type": "stream",
     "text": [
      "Parameter containing:\n",
      "tensor([[-0.6146, -0.0652, -1.0227,  ...,  1.3484, -0.3466, -0.3208],\n",
      "        [ 0.7906,  0.1017, -0.3726,  ...,  0.2276, -1.1347,  0.7830],\n",
      "        [-0.2455,  0.5377,  0.4168,  ...,  0.8491,  0.8393, -0.1098],\n",
      "        ...,\n",
      "        [ 2.4299, -0.8775,  1.0848,  ...,  0.0570,  0.2586, -0.5798],\n",
      "        [ 1.5216,  2.1748, -2.2819,  ..., -1.0481,  0.0815,  1.0325],\n",
      "        [-0.3295,  0.4993,  1.3541,  ...,  0.2019,  0.9597, -0.2286]],\n",
      "       requires_grad=True)\n"
     ]
    }
   ],
   "source": [
    "print(embedding_layer.weight)"
   ]
  },
  {
   "cell_type": "code",
   "execution_count": 13,
   "id": "de17da6a",
   "metadata": {},
   "outputs": [
    {
     "name": "stdout",
     "output_type": "stream",
     "text": [
      "tensor([[-0.7805, -1.8027,  1.7052,  ...,  2.1712, -0.0753, -0.8142],\n",
      "        [ 0.1399,  0.5961,  1.1065,  ..., -1.7707, -1.5838, -0.5572],\n",
      "        [ 0.0889,  0.0780, -1.7192,  ...,  1.3707, -0.7442, -2.1587],\n",
      "        [-0.2240, -0.8380, -1.3884,  ..., -0.1448, -2.2344, -2.3870]],\n",
      "       grad_fn=<EmbeddingBackward0>)\n"
     ]
    }
   ],
   "source": [
    "print(embedding_layer(input_ids))"
   ]
  },
  {
   "cell_type": "code",
   "execution_count": 14,
   "id": "e400b980",
   "metadata": {},
   "outputs": [
    {
     "name": "stdout",
     "output_type": "stream",
     "text": [
      "tensor([[ 0.1399,  0.5961,  1.1065,  ..., -1.7707, -1.5838, -0.5572],\n",
      "        [ 0.0889,  0.0780, -1.7192,  ...,  1.3707, -0.7442, -2.1587],\n",
      "        [-0.2240, -0.8380, -1.3884,  ..., -0.1448, -2.2344, -2.3870],\n",
      "        [ 0.5854,  0.6044, -0.8283,  ..., -0.8332,  0.7290, -0.4155]],\n",
      "       grad_fn=<EmbeddingBackward0>)\n"
     ]
    }
   ],
   "source": [
    "print(embedding_layer(target_ids))"
   ]
  },
  {
   "cell_type": "code",
   "execution_count": 15,
   "id": "f60a0aa7",
   "metadata": {},
   "outputs": [
    {
     "data": {
      "text/plain": [
       "tensor([[  286,   366,    38,   271],\n",
       "        [   13,   520,  5493,   318],\n",
       "        [  470,   766,   703,   661],\n",
       "        [  257, 23844,   286,  7543]])"
      ]
     },
     "execution_count": 15,
     "metadata": {},
     "output_type": "execute_result"
    }
   ],
   "source": [
    "inputs"
   ]
  },
  {
   "cell_type": "code",
   "execution_count": 16,
   "id": "c6facfa5",
   "metadata": {},
   "outputs": [
    {
     "name": "stdout",
     "output_type": "stream",
     "text": [
      "Max token index in inputs: 23844\n",
      "Embedding vocab size: 50257\n"
     ]
    }
   ],
   "source": [
    "print(\"Max token index in inputs:\", inputs.max().item())\n",
    "print(\"Embedding vocab size:\", embedding_layer.num_embeddings)\n"
   ]
  },
  {
   "cell_type": "code",
   "execution_count": 17,
   "id": "e64af2b9",
   "metadata": {},
   "outputs": [],
   "source": [
    "token_embedding = embedding_layer(inputs)"
   ]
  },
  {
   "cell_type": "code",
   "execution_count": 18,
   "id": "a7c9b149",
   "metadata": {},
   "outputs": [
    {
     "name": "stdout",
     "output_type": "stream",
     "text": [
      "torch.Size([4, 4, 256])\n"
     ]
    }
   ],
   "source": [
    "print(token_embedding.shape)"
   ]
  },
  {
   "cell_type": "code",
   "execution_count": 19,
   "id": "99514c0e",
   "metadata": {},
   "outputs": [],
   "source": [
    "pos_embedding_layer = nn.Embedding(context_size,embedding_dim)"
   ]
  },
  {
   "cell_type": "code",
   "execution_count": 20,
   "id": "55255561",
   "metadata": {},
   "outputs": [],
   "source": [
    "pos_embedding = pos_embedding_layer(torch.arange(context_size))"
   ]
  },
  {
   "cell_type": "code",
   "execution_count": 21,
   "id": "e4554041",
   "metadata": {},
   "outputs": [],
   "source": [
    "input_embedding = token_embedding + pos_embedding"
   ]
  },
  {
   "cell_type": "code",
   "execution_count": 22,
   "id": "87c33d3d",
   "metadata": {},
   "outputs": [
    {
     "data": {
      "text/plain": [
       "tensor([[[-0.6146, -1.7022,  2.5253,  ...,  1.9071,  0.4057, -0.2411],\n",
       "         [ 1.0809,  0.7591,  0.3673,  ..., -0.5335, -2.7756,  1.2426],\n",
       "         [-0.8084, -0.1466, -0.9512,  ...,  0.7597, -0.4429, -3.1417],\n",
       "         [ 1.1338, -1.8042, -2.1049,  ..., -0.6132, -2.5058, -2.4856]],\n",
       "\n",
       "        [[ 0.9687,  1.3060, -0.3877,  ...,  0.3672, -1.0589, -0.1055],\n",
       "         [ 1.6497,  0.4791, -1.4647,  ...,  1.4321, -1.2683,  2.7148],\n",
       "         [ 0.3469, -0.6864, -0.4211,  ..., -0.5019,  1.3682, -1.0805],\n",
       "         [ 2.3402, -1.3706,  0.3969,  ...,  0.0215,  0.9327,  0.7648]],\n",
       "\n",
       "        [[ 0.2408,  1.4191,  0.7681,  ..., -0.4455, -0.6550,  0.2906],\n",
       "         [ 1.9625, -1.0407, -2.4381,  ...,  1.7013, -2.0127,  2.0650],\n",
       "         [-1.2864,  0.6912,  2.2582,  ...,  0.0938, -1.7301, -2.2027],\n",
       "         [ 0.5442, -2.3517, -0.5185,  ..., -0.1114, -0.5864,  0.6941]],\n",
       "\n",
       "        [[-0.9254,  2.0184,  1.2581,  ..., -1.5170,  0.8226, -0.3472],\n",
       "         [ 1.9573,  0.9839, -2.3463,  ...,  1.1042, -0.9541,  1.3984],\n",
       "         [-1.6778, -2.0273,  2.4732,  ...,  1.5601,  0.2260, -1.7972],\n",
       "         [ 0.7722, -1.4686,  1.1125,  ..., -0.3575,  0.1663,  0.9932]]],\n",
       "       grad_fn=<AddBackward0>)"
      ]
     },
     "execution_count": 22,
     "metadata": {},
     "output_type": "execute_result"
    }
   ],
   "source": [
    "input_embedding"
   ]
  },
  {
   "cell_type": "markdown",
   "id": "3164aa17",
   "metadata": {},
   "source": [
    "### MULTIHEAD SELF ATTENTION "
   ]
  },
  {
   "cell_type": "code",
   "execution_count": 23,
   "id": "7e6008fc",
   "metadata": {},
   "outputs": [
    {
     "data": {
      "text/plain": [
       "tensor([[  286,   366,    38,   271],\n",
       "        [   13,   520,  5493,   318],\n",
       "        [  470,   766,   703,   661],\n",
       "        [  257, 23844,   286,  7543]])"
      ]
     },
     "execution_count": 23,
     "metadata": {},
     "output_type": "execute_result"
    }
   ],
   "source": [
    "inputs"
   ]
  },
  {
   "cell_type": "code",
   "execution_count": 24,
   "id": "86024483",
   "metadata": {},
   "outputs": [
    {
     "name": "stdout",
     "output_type": "stream",
     "text": [
      " of  \" G is \n",
      "\n",
      ".  St roud  is \n",
      "\n",
      "'t  see  how  people \n",
      "\n",
      " a  lump  of  sugar \n",
      "\n"
     ]
    }
   ],
   "source": [
    "for i in range(inputs.shape[0]):\n",
    "    for j in range(inputs.shape[1]):\n",
    "        print((tokenizer.decode([inputs[i][j].item()])),end=\" \")\n",
    "    print(\"\\n\")"
   ]
  },
  {
   "cell_type": "code",
   "execution_count": 25,
   "id": "6f83c692",
   "metadata": {},
   "outputs": [
    {
     "data": {
      "image/png": "[encoded data removed]",
      "text/plain": [
       "<Figure size 640x480 with 1 Axes>"
      ]
     },
     "metadata": {},
     "output_type": "display_data"
    },
    {
     "data": {
      "image/png": "[encoded data removed]",
      "text/plain": [
       "<Figure size 640x480 with 1 Axes>"
      ]
     },
     "metadata": {},
     "output_type": "display_data"
    }
   ],
   "source": [
    "import matplotlib.pyplot as plt\n",
    "from mpl_toolkits.mplot3d import Axes3D\n",
    "\n",
    "inputs2 = input_embedding[1]\n",
    "\n",
    "# Corresponding words\n",
    "words2 = ['all', 'the', 'characteristic', 'qualities']\n",
    "\n",
    "# Extract x, y, z coordinates\n",
    "x_coords = inputs2[:, 0].detach().numpy()\n",
    "y_coords = inputs2[:, 1].detach().numpy()\n",
    "z_coords = inputs2[:, 2].detach().numpy()\n",
    "\n",
    "\n",
    "# Create 3D plot\n",
    "fig = plt.figure()\n",
    "ax = fig.add_subplot(111, projection='3d')\n",
    "\n",
    "# Plot each point and annotate with corresponding word\n",
    "for x, y, z, word in zip(x_coords, y_coords, z_coords, words2):\n",
    "    ax.scatter(x, y, z)\n",
    "    ax.text(x, y, z, word, fontsize=10)\n",
    "\n",
    "# Set labels for axes\n",
    "ax.set_xlabel('X')\n",
    "ax.set_ylabel('Y')\n",
    "ax.set_zlabel('Z')\n",
    "\n",
    "plt.title('3D Plot of Word Embeddings')\n",
    "plt.show()\n",
    "\n",
    "# Create 3D plot with vectors from origin to each point, using different colors\n",
    "fig = plt.figure()\n",
    "ax = fig.add_subplot(111, projection='3d')\n",
    "\n",
    "# Define a list of colors for the vectors\n",
    "colors = ['r', 'g', 'b', 'c', 'm', 'y', 'r']\n",
    "\n",
    "# Plot each vector with a different color and annotate with the corresponding word\n",
    "for (x, y, z, word, color) in zip(x_coords, y_coords, z_coords, words2, colors):\n",
    "    # Draw vector from origin to the point (x, y, z) with specified color and smaller arrow length ratio\n",
    "    ax.quiver(0, 0, 0, x, y, z, color=color, arrow_length_ratio=0.05)\n",
    "    ax.text(x, y, z, word, fontsize=10, color=color)\n",
    "\n",
    "# Set labels for axes\n",
    "ax.set_xlabel('X')\n",
    "ax.set_ylabel('Y')\n",
    "ax.set_zlabel('Z')\n",
    "\n",
    "# Set plot limits to keep arrows within the plot boundaries\n",
    "ax.set_xlim([0, 1])\n",
    "ax.set_ylim([0, 1])\n",
    "ax.set_zlim([0, 1])\n",
    "\n",
    "plt.title('3D Plot of Word Embeddings with Colored Vectors')\n",
    "plt.show()"
   ]
  },
  {
   "cell_type": "code",
   "execution_count": 26,
   "id": "17435edb",
   "metadata": {},
   "outputs": [],
   "source": [
    "import torch.nn as nn\n",
    "class multihead_self_attention(nn.Module):\n",
    "    def __init__(self,d_in,d_out,context_len,dropout,num_heads,qkv_bias):\n",
    "        super().__init__()\n",
    "        assert (d_out % num_heads == 0), \\\n",
    "            \"output dimension evenly distributed among each heads\"\n",
    "        self.d_out = d_out\n",
    "        self.num_heads = num_heads\n",
    "        self.head_dim = self.d_out // self.num_heads\n",
    "        self.proj = nn.Linear(d_out,d_out,bias=qkv_bias)\n",
    "        self.w_key = nn.Linear(d_in,d_out,bias=qkv_bias)\n",
    "        self.w_query = nn.Linear(d_in,d_out,bias=qkv_bias)\n",
    "        self.w_value = nn.Linear(d_in,d_out,bias=qkv_bias)\n",
    "        self.dropout = dropout\n",
    "        self.context_len = context_len\n",
    "        self.register_buffer('mask',torch.triu(torch.ones(context_len,context_len),diagonal=1))\n",
    "\n",
    "    def forward(self,input):\n",
    "        batch_size,num_tokens,d_in = input.shape\n",
    "        keys = self.w_key(input) # (batch_size,num_tokens,d_out)\n",
    "        quaries = self.w_query(input)\n",
    "        values = self.w_value(input) \n",
    "\n",
    "        keys = keys.view(batch_size,num_tokens,self.num_heads,self.head_dim) # (batch_size,num_tokens,num_heads,head_dim)\n",
    "        quaries = quaries.view(batch_size,num_tokens,self.num_heads,self.head_dim)\n",
    "        values = values.view(batch_size,num_tokens,self.num_heads,self.head_dim)\n",
    "\n",
    "        keys = keys.transpose(1,2) # (batch_size,num_heads,num_tokens,head_dim)\n",
    "        quaries = quaries.transpose(1,2)\n",
    "        values = values.transpose(1,2)\n",
    "\n",
    "        attn_score = quaries @ keys.transpose(2,3) # (batch_size, num_heads, num_tokens, num_tokens)\n",
    "        # attn_score.masked_fill_(self.mask.bool()[:num_tokens][:num_tokens],-torch.inf)\n",
    "        attn_score.masked_fill_(\n",
    "            self.mask[:num_tokens, :num_tokens].bool(),\n",
    "            float('-inf')\n",
    "        )\n",
    "        attn_weights = torch.softmax(attn_score/keys.shape[-1]**0.5,dim=-1)\n",
    "        context_vec = attn_weights @ values # (batch_size,num_heads,num_tokens,head_dim)\n",
    "        context_vec = context_vec.transpose(1,2)# (batch_size,num_tokens,num_heads,head_dim)\n",
    "        context_vec = context_vec.contiguous().view(batch_size,num_tokens,self.d_out)\n",
    "        context_vec = self.proj(context_vec)\n",
    "        return context_vec"
   ]
  },
  {
   "cell_type": "code",
   "execution_count": 27,
   "id": "97ceafc1",
   "metadata": {},
   "outputs": [
    {
     "name": "stdout",
     "output_type": "stream",
     "text": [
      "tensor([[[ 0.1473,  1.7889,  0.0121,  ..., -0.0071,  0.7642,  0.2436],\n",
      "         [ 0.4042,  0.8808,  0.0781,  ..., -0.0496,  0.0261,  0.2992],\n",
      "         [ 0.4070,  0.4451,  0.2616,  ..., -0.0089, -0.1939,  0.3131],\n",
      "         [ 0.3326,  0.2222,  0.2319,  ...,  0.1919, -0.1793,  0.1041]],\n",
      "\n",
      "        [[ 0.0990,  1.1633,  0.2201,  ...,  0.0736,  0.1221, -0.1173],\n",
      "         [-0.4366,  1.1562, -0.3004,  ...,  0.2350,  0.1610, -0.2196],\n",
      "         [ 0.1364,  0.0262,  0.2201,  ..., -0.0617, -0.1856,  0.6087],\n",
      "         [ 0.0870,  0.4794,  0.2854,  ...,  0.0670, -0.0796,  0.0440]],\n",
      "\n",
      "        [[-0.3240,  1.3568,  0.1986,  ...,  0.7572,  0.6961, -0.7727],\n",
      "         [ 0.1249,  1.1215,  0.1913,  ...,  0.4912,  0.2864, -0.5066],\n",
      "         [-0.3131,  0.6724,  0.3875,  ...,  0.2550,  0.2163, -0.1235],\n",
      "         [-0.2550,  0.1610,  0.4287,  ...,  0.1951, -0.0347,  0.1800]],\n",
      "\n",
      "        [[ 0.6831,  0.9309,  0.0450,  ..., -0.2884, -0.0523, -0.7544],\n",
      "         [ 0.2950,  0.3077,  0.0747,  ..., -0.2449,  0.0625, -0.3106],\n",
      "         [ 0.3509,  0.5016,  0.1127,  ..., -0.3188,  0.0278, -0.0244],\n",
      "         [ 0.0821,  0.5699,  0.3357,  ..., -0.1931, -0.1088,  0.0316]]],\n",
      "       grad_fn=<UnsafeViewBackward0>)\n",
      "Context Vector shape: torch.Size([4, 4, 256])\n"
     ]
    }
   ],
   "source": [
    "batch_size,num_tokens,d_in = input_embedding.shape\n",
    "d_out = d_in\n",
    "model = multihead_self_attention(d_in,d_out,num_tokens,0.5,2,False)\n",
    "context_vec = model(input_embedding)\n",
    "print(context_vec)\n",
    "print(f'Context Vector shape: {context_vec.shape}')"
   ]
  },
  {
   "cell_type": "markdown",
   "id": "31b918ac",
   "metadata": {},
   "source": [
    "### Next Part"
   ]
  },
  {
   "cell_type": "code",
   "execution_count": 28,
   "id": "476f003b",
   "metadata": {},
   "outputs": [
    {
     "data": {
      "text/plain": [
       "tensor([[[-0.6146, -1.7022,  2.5253,  ...,  1.9071,  0.4057, -0.2411],\n",
       "         [ 1.0809,  0.7591,  0.3673,  ..., -0.5335, -2.7756,  1.2426],\n",
       "         [-0.8084, -0.1466, -0.9512,  ...,  0.7597, -0.4429, -3.1417],\n",
       "         [ 1.1338, -1.8042, -2.1049,  ..., -0.6132, -2.5058, -2.4856]],\n",
       "\n",
       "        [[ 0.9687,  1.3060, -0.3877,  ...,  0.3672, -1.0589, -0.1055],\n",
       "         [ 1.6497,  0.4791, -1.4647,  ...,  1.4321, -1.2683,  2.7148],\n",
       "         [ 0.3469, -0.6864, -0.4211,  ..., -0.5019,  1.3682, -1.0805],\n",
       "         [ 2.3402, -1.3706,  0.3969,  ...,  0.0215,  0.9327,  0.7648]],\n",
       "\n",
       "        [[ 0.2408,  1.4191,  0.7681,  ..., -0.4455, -0.6550,  0.2906],\n",
       "         [ 1.9625, -1.0407, -2.4381,  ...,  1.7013, -2.0127,  2.0650],\n",
       "         [-1.2864,  0.6912,  2.2582,  ...,  0.0938, -1.7301, -2.2027],\n",
       "         [ 0.5442, -2.3517, -0.5185,  ..., -0.1114, -0.5864,  0.6941]],\n",
       "\n",
       "        [[-0.9254,  2.0184,  1.2581,  ..., -1.5170,  0.8226, -0.3472],\n",
       "         [ 1.9573,  0.9839, -2.3463,  ...,  1.1042, -0.9541,  1.3984],\n",
       "         [-1.6778, -2.0273,  2.4732,  ...,  1.5601,  0.2260, -1.7972],\n",
       "         [ 0.7722, -1.4686,  1.1125,  ..., -0.3575,  0.1663,  0.9932]]],\n",
       "       grad_fn=<AddBackward0>)"
      ]
     },
     "execution_count": 28,
     "metadata": {},
     "output_type": "execute_result"
    }
   ],
   "source": [
    "input_embedding"
   ]
  },
  {
   "cell_type": "code",
   "execution_count": 29,
   "id": "152e575e",
   "metadata": {},
   "outputs": [
    {
     "data": {
      "text/plain": [
       "torch.Size([4, 4, 256])"
      ]
     },
     "execution_count": 29,
     "metadata": {},
     "output_type": "execute_result"
    }
   ],
   "source": [
    "input_embedding.shape"
   ]
  },
  {
   "cell_type": "code",
   "execution_count": 30,
   "id": "212b0192",
   "metadata": {},
   "outputs": [],
   "source": [
    "GPT_CONFIG_124M = {\n",
    "    \"vocab_size\" : 50257,\n",
    "    \"emb_dim\" : 768,\n",
    "    \"context_len\" : 1024,\n",
    "    \"n_heads\" : 12,\n",
    "    \"n_layers\" : 12,\n",
    "    \"drop_rate\" : 0.5,\n",
    "    \"qkv_bias\" : False\n",
    "}"
   ]
  },
  {
   "cell_type": "code",
   "execution_count": 31,
   "id": "8d0f9f08",
   "metadata": {},
   "outputs": [],
   "source": [
    "import torch\n",
    "import torch.nn as nn\n",
    "class GPT_Model(nn.Module):\n",
    "    def __init__(self,cfg):\n",
    "        super().__init__()\n",
    "        self.tok_emb = nn.Embedding(cfg[\"vocab_size\"],cfg[\"emb_dim\"])\n",
    "        self.pos_emb = nn.Embedding(cfg[\"context_len\"],cfg[\"emb_dim\"])\n",
    "        self.drop_layer = nn.Dropout(cfg[\"drop_rate\"])\n",
    "        self.transformer = nn.Sequential(\n",
    "            *[transformer_block(cfg) for _ in range(cfg[\"n_layers\"])]\n",
    "        )\n",
    "        self.final_norm = LayerNorm(cfg[\"emb_dim\"])\n",
    "        self.out_head = nn.Linear(cfg[\"emb_dim\"],cfg[\"vocab_size\"])\n",
    "    def forward(self,in_idx):\n",
    "        batch_size,seq_len = in_idx.shape\n",
    "        token_emb = self.tok_emb(in_idx)\n",
    "        pos_emb = self.pos_emb(torch.arange(seq_len))\n",
    "        x = token_emb + pos_emb\n",
    "        x = self.transformer(x)\n",
    "        x = self.final_norm(x)\n",
    "        x = self.out_head(x)\n",
    "        return x\n",
    "    \n",
    "class LayerNorm(nn.Module):\n",
    "    def __init__(self,normalized_shape,eps=1e-5):\n",
    "        super().__init__()\n",
    "        self.normalized_shape = normalized_shape\n",
    "        self.weights = nn.Parameter(torch.ones(normalized_shape))\n",
    "        self.biases = nn.Parameter(torch.zeros(normalized_shape))\n",
    "        self.eps = eps\n",
    "    def forward(self,x):\n",
    "        mean = x.mean(dim=-1,keepdim=True)\n",
    "        var = x.var(dim=-1,keepdim=True,unbiased=True)\n",
    "        x_norm = (x-mean) / torch.sqrt(var+self.eps)\n",
    "        x = x_norm*self.weights + self.biases\n",
    "        return x\n",
    "\n",
    "class transformer_block(nn.Module):\n",
    "    def __init__(self,cfg):\n",
    "        super().__init__()\n",
    "        self.ln1 = LayerNorm(cfg[\"emb_dim\"])\n",
    "        self.mha = multihead_self_attention(d_in=cfg[\"emb_dim\"],d_out=cfg[\"emb_dim\"],context_len=cfg[\"context_len\"],dropout=cfg[\"drop_rate\"],num_heads=cfg[\"n_heads\"],qkv_bias=cfg[\"qkv_bias\"])\n",
    "        self.ln2 = LayerNorm(cfg[\"emb_dim\"])\n",
    "        self.ff = nn.Sequential(\n",
    "            nn.Linear(cfg[\"emb_dim\"],4*cfg[\"emb_dim\"]),\n",
    "            nn.GELU(),\n",
    "            nn.Linear(4*cfg[\"emb_dim\"],cfg[\"emb_dim\"])\n",
    "        )\n",
    "        self.drop_layer = nn.Dropout(cfg[\"drop_rate\"])\n",
    "    def forward(self,x):\n",
    "        attn_out = self.mha(self.ln1(x))\n",
    "        x = x + attn_out\n",
    "        ff_out = self.ff(self.ln2(x))\n",
    "        out = self.drop_layer(ff_out)\n",
    "        res = x + out\n",
    "        return out"
   ]
  },
  {
   "cell_type": "code",
   "execution_count": 32,
   "id": "356c9b9d",
   "metadata": {},
   "outputs": [
    {
     "name": "stdout",
     "output_type": "stream",
     "text": [
      "tensor([[6109, 3626, 6100,  345],\n",
      "        [6109, 1110, 6622,  257]])\n"
     ]
    }
   ],
   "source": [
    "import tiktoken\n",
    "tokenizer = tiktoken.get_encoding(\"gpt2\")\n",
    "batch = []\n",
    "txt1 = \"Every effort moves you\"\n",
    "txt2 = \"Every day holds a\"\n",
    "batch.append(torch.tensor(tokenizer.encode(txt1)))\n",
    "batch.append(torch.tensor(tokenizer.encode(txt2)))\n",
    "batch = torch.stack(batch, dim=0)\n",
    "print(batch)"
   ]
  },
  {
   "cell_type": "code",
   "execution_count": 33,
   "id": "bf8b431b",
   "metadata": {},
   "outputs": [
    {
     "name": "stdout",
     "output_type": "stream",
     "text": [
      "Output shape: torch.Size([2, 4, 50257])\n",
      "tensor([[[-1.0752,  0.0421, -0.2490,  ...,  0.8811,  0.3777, -0.2084],\n",
      "         [ 0.1110,  0.0576, -0.4207,  ...,  0.2749,  0.2145, -0.1129],\n",
      "         [-0.6740, -0.4367,  0.0027,  ..., -0.0384, -0.6905,  0.0079],\n",
      "         [-0.8293, -0.5622, -0.5264,  ..., -0.0543, -0.5938,  0.2150]],\n",
      "\n",
      "        [[-0.1996, -0.9791,  0.5351,  ...,  0.8083,  0.8722,  0.1695],\n",
      "         [ 0.0841,  0.7575,  0.6302,  ...,  1.0753,  0.4486,  1.1114],\n",
      "         [ 0.2591, -0.3957,  0.5953,  ...,  0.2247, -1.2295,  1.1365],\n",
      "         [-0.1326, -0.1661, -0.4231,  ...,  0.4086, -0.6818, -0.3500]]],\n",
      "       grad_fn=<ViewBackward0>)\n"
     ]
    }
   ],
   "source": [
    "torch.manual_seed(123)\n",
    "model = GPT_Model(GPT_CONFIG_124M)\n",
    "logits = model(batch)\n",
    "print(\"Output shape:\", logits.shape)\n",
    "print(logits)"
   ]
  },
  {
   "cell_type": "markdown",
   "id": "8cdb32ae",
   "metadata": {},
   "source": [
    "### Transformer Block Coding"
   ]
  },
  {
   "cell_type": "code",
   "execution_count": 34,
   "id": "3d270e59",
   "metadata": {},
   "outputs": [],
   "source": [
    "GPT_CONFIG_124M = {\n",
    "    \"vocab_size\" : 50257,\n",
    "    \"emb_dim\" : 768,\n",
    "    \"context_len\" : 256,\n",
    "    \"n_heads\" : 12,\n",
    "    \"n_layers\" : 12,\n",
    "    \"drop_rate\" : 0.5,\n",
    "    \"qkv_bias\" : False\n",
    "}"
   ]
  },
  {
   "cell_type": "code",
   "execution_count": 35,
   "id": "df24072d",
   "metadata": {},
   "outputs": [],
   "source": [
    "class Layer_Normalization(nn.Module):\n",
    "    def __init__(self,embedding_dim):\n",
    "        super().__init__()\n",
    "        self.weights = nn.Parameter(torch.ones(embedding_dim))\n",
    "        self.biases = nn.Parameter(torch.zeros(embedding_dim))\n",
    "        self.eps = 1e-5\n",
    "    def forward(self,x):\n",
    "        mean = x.mean(dim=-1,keepdim=True)\n",
    "        var = x.var(dim=-1,keepdim=True,unbiased=False)\n",
    "        norm_x = (x-mean) / torch.sqrt(self.eps+var)\n",
    "        return self.weights * norm_x + self.biases"
   ]
  },
  {
   "cell_type": "code",
   "execution_count": 36,
   "id": "2cb09e95",
   "metadata": {},
   "outputs": [],
   "source": [
    "class GELU(nn.Module):\n",
    "    def __init__(self):\n",
    "        super().__init__()\n",
    "    def forward(self,x):\n",
    "        return 0.5 * x * (1 + torch.tanh(torch.sqrt(torch.tensor(2.0 /torch.pi)) * (x + 0.044715 * torch.pow(x,3))))"
   ]
  },
  {
   "cell_type": "code",
   "execution_count": 37,
   "id": "47a3fa13",
   "metadata": {},
   "outputs": [],
   "source": [
    "class FeedForward_NN(nn.Module):\n",
    "    def __init__(self,cfg):\n",
    "        super().__init__()\n",
    "        self.layer = nn.Sequential(\n",
    "            nn.Linear(cfg['emb_dim'], 4*cfg['emb_dim']),\n",
    "            GELU(),\n",
    "            nn.Linear(4*cfg['emb_dim'],cfg['emb_dim'])\n",
    "        )\n",
    "    def forward(self,x):\n",
    "        return self.layer(x)"
   ]
  },
  {
   "cell_type": "code",
   "execution_count": 38,
   "id": "2f354d47",
   "metadata": {},
   "outputs": [],
   "source": [
    "class Transformer_Block(nn.Module):\n",
    "    def __init__(self,cfg):\n",
    "        super().__init__()\n",
    "        self.attn_module = multihead_self_attention(\n",
    "            d_in = cfg['emb_dim'],\n",
    "            d_out = cfg['emb_dim'],\n",
    "            context_len = cfg['context_len'],\n",
    "            dropout = cfg['drop_rate'],\n",
    "            num_heads = cfg['n_heads'],\n",
    "            qkv_bias = cfg['qkv_bias'],\n",
    "        )\n",
    "        self.ff = FeedForward_NN(cfg)\n",
    "        self.norm1 = Layer_Normalization(cfg['emb_dim'])\n",
    "        self.norm2 = Layer_Normalization(cfg['emb_dim'])\n",
    "        self.drop_out = nn.Dropout(cfg['drop_rate'])\n",
    "    \n",
    "    def forward(self,x):\n",
    "        shortcut = x\n",
    "        x = self.norm1(x)\n",
    "        x = self.attn_module(x)\n",
    "        x = self.drop_out(x)\n",
    "        x = x + shortcut\n",
    "\n",
    "        shortcut = x\n",
    "        x = self.norm2(x)\n",
    "        x = self.ff(x)\n",
    "        x = self.drop_out(x)\n",
    "        x = x + shortcut\n",
    "        return x\n"
   ]
  },
  {
   "cell_type": "code",
   "execution_count": 39,
   "id": "a62e6ed1",
   "metadata": {},
   "outputs": [],
   "source": [
    "import torch\n",
    "import torch.nn as nn\n",
    "class GPT_Model(nn.Module):\n",
    "    def __init__(self,cfg):\n",
    "        super().__init__()\n",
    "        self.token_emb = nn.Embedding(cfg['vocab_size'],cfg['emb_dim'])\n",
    "        self.pos_emb = nn.Embedding(cfg['context_len'],cfg['emb_dim'])\n",
    "        self.drop_emb = nn.Dropout(cfg['drop_rate'])\n",
    "\n",
    "        self.trf_block = nn.Sequential(\n",
    "            *[Transformer_Block(cfg) for _ in range(cfg['n_layers'])])\n",
    "        self.norm = Layer_Normalization(cfg['emb_dim'])\n",
    "        self.out_head = nn.Linear(cfg['emb_dim'],cfg['vocab_size'],bias=False)\n",
    "    \n",
    "    def forward(self,x):\n",
    "        batch_size,seq_len = x.shape\n",
    "        token_embeddings = self.token_emb(x)\n",
    "        pos_indices = torch.arange(seq_len,device=x.device).unsqueeze(0)\n",
    "        positional_embeddings = self.pos_emb(pos_indices)\n",
    "        x = token_embeddings + positional_embeddings\n",
    "        x = self.drop_emb(x)\n",
    "        x = self.trf_block(x)\n",
    "        x = self.norm(x)\n",
    "        logits = self.out_head(x)\n",
    "        return logits"
   ]
  },
  {
   "cell_type": "code",
   "execution_count": 40,
   "id": "bcede00c",
   "metadata": {},
   "outputs": [
    {
     "name": "stdout",
     "output_type": "stream",
     "text": [
      "tensor([[6109, 3626, 6100,  345],\n",
      "        [6109, 1110, 6622,  257]])\n"
     ]
    }
   ],
   "source": [
    "import tiktoken\n",
    "tokenizer = tiktoken.get_encoding(\"gpt2\")\n",
    "batch = []\n",
    "txt1 = \"Every effort moves you\"\n",
    "txt2 = \"Every day holds a\"\n",
    "batch.append(torch.tensor(tokenizer.encode(txt1)))\n",
    "batch.append(torch.tensor(tokenizer.encode(txt2)))\n",
    "batch = torch.stack(batch,dim=0)\n",
    "print(batch)"
   ]
  },
  {
   "cell_type": "code",
   "execution_count": 41,
   "id": "544cb2fa",
   "metadata": {},
   "outputs": [
    {
     "name": "stdout",
     "output_type": "stream",
     "text": [
      "Batch size: torch.Size([2, 4])\n",
      "Output dimension: torch.Size([2, 4, 50257])\n",
      "Input Batches: \n",
      "tensor([[6109, 3626, 6100,  345],\n",
      "        [6109, 1110, 6622,  257]])\n",
      "Output logits: \n",
      "tensor([[[-0.6105, -1.0860,  0.8264,  ...,  0.0407, -0.1214, -0.5458],\n",
      "         [-0.7059,  0.3137,  0.4096,  ..., -0.1400, -0.8901, -0.7963],\n",
      "         [ 0.3430,  0.3486,  0.7116,  ...,  0.4304,  0.3793,  0.3669],\n",
      "         [ 0.6215,  1.1878, -0.6271,  ...,  0.2725,  0.2158, -0.1652]],\n",
      "\n",
      "        [[-0.6235, -0.6989, -0.2467,  ..., -0.4446, -0.3357,  0.7554],\n",
      "         [-0.9635,  0.2748, -0.5600,  ..., -0.5493, -1.1388, -0.9079],\n",
      "         [-1.1849, -0.1853, -0.8579,  ..., -0.5580, -0.7881, -0.2976],\n",
      "         [-0.9961, -0.0028, -0.2638,  ..., -0.4068, -0.3990,  0.7136]]],\n",
      "       grad_fn=<UnsafeViewBackward0>)\n"
     ]
    }
   ],
   "source": [
    "torch.manual_seed(123)\n",
    "model = GPT_Model(GPT_CONFIG_124M)\n",
    "logits = model(batch)\n",
    "print(f'Batch size: {batch.shape}')\n",
    "print(f'Output dimension: {logits.shape}')\n",
    "print(f'Input Batches: \\n{batch}')\n",
    "print(f'Output logits: \\n{logits}')"
   ]
  },
  {
   "cell_type": "code",
   "execution_count": 42,
   "id": "811038e9",
   "metadata": {},
   "outputs": [
    {
     "name": "stdout",
     "output_type": "stream",
     "text": [
      "Total number of parameters: 162,410,496\n"
     ]
    }
   ],
   "source": [
    "total_params = sum(p.numel() for p in model.parameters())\n",
    "print(f\"Total number of parameters: {total_params:,}\")"
   ]
  },
  {
   "cell_type": "code",
   "execution_count": 43,
   "id": "09766527",
   "metadata": {},
   "outputs": [
    {
     "name": "stdout",
     "output_type": "stream",
     "text": [
      "Total size of the model: 619.55 MB\n"
     ]
    }
   ],
   "source": [
    "total_size_bytes = total_params * 4 #A\n",
    "total_size_mb = total_size_bytes / (1024 * 1024) #B\n",
    "print(f\"Total size of the model: {total_size_mb:.2f} MB\")"
   ]
  },
  {
   "cell_type": "code",
   "execution_count": 104,
   "id": "994656a3",
   "metadata": {},
   "outputs": [],
   "source": [
    "def generate_text_simple(model,batch,context_size,temperature=0.0, top_k=None, max_new_tokens=20, eos_id=None):\n",
    "    for _ in range(max_new_tokens):\n",
    "        batch_size,seq_len = batch.shape\n",
    "        batch_input = batch[:,-context_size:] # (batch_size,context_size) only consider context_size no of tokens as input for model\n",
    "        with torch.no_grad():\n",
    "            logits = model(batch_input) # (batch_size,context_size,vocab_size)\n",
    "        \n",
    "        logits = logits[:,-1,:]\n",
    "\n",
    "        if top_k is not None:\n",
    "            top_logits,_ = torch.topk(logits,top_k)\n",
    "            min_val = top_logits[:,-1]\n",
    "            logits = torch.where(logits < min_val ,torch.tensor(float(\"-inf\")).to(logits.device), logits) \n",
    "        \n",
    "        if temperature > 0.0:\n",
    "            logits = logits/temperature\n",
    "            probas = torch.softmax(logits,dim=-1)\n",
    "            next_token = torch.multinomial(probas,num_samples=1)\n",
    "            pass\n",
    "        else:\n",
    "            probs = torch.softmax(logits,dim=-1)\n",
    "            next_token = torch.argmax(probs,dim=-1,keepdim=True)\n",
    "        \n",
    "        if next_token == eos_id : break\n",
    "        batch = torch.cat((batch,next_token),dim=1)\n",
    "    return batch"
   ]
  },
  {
   "cell_type": "code",
   "execution_count": 105,
   "id": "62167213",
   "metadata": {},
   "outputs": [
    {
     "name": "stdout",
     "output_type": "stream",
     "text": [
      "Input shape: torch.Size([2, 4])\n",
      "Output shape: torch.Size([2, 10])\n",
      "Input: \n",
      "tensor([[6109, 3626, 6100,  345],\n",
      "        [6109, 1110, 6622,  257]])\n",
      "Output: \n",
      "tensor([[6109, 3626, 6100,  345,   13,  198,  198,  198,  198,  198],\n",
      "        [6109, 1110, 6622,  257,   13,  198,  198,  198,  198,  198]])\n"
     ]
    }
   ],
   "source": [
    "model.eval()\n",
    "out = generate_text_simple(model = model,batch = batch,context_size=GPT_CONFIG_124M['context_len'],max_new_tokens=6)\n",
    "print(f'Input shape: {batch.shape}')\n",
    "print(f'Output shape: {out.shape}')\n",
    "print(f'Input: \\n{batch}')\n",
    "print(f'Output: \\n{out}')"
   ]
  },
  {
   "cell_type": "code",
   "execution_count": 106,
   "id": "d5891221",
   "metadata": {},
   "outputs": [
    {
     "name": "stdout",
     "output_type": "stream",
     "text": [
      "Every effort moves you -> \n",
      "Every effort moves you.\n",
      "\n",
      "\n",
      "\n",
      "\n",
      "\n",
      "\n",
      "Every day holds a -> \n",
      "Every day holds a.\n",
      "\n",
      "\n",
      "\n",
      "\n",
      "\n",
      "\n"
     ]
    }
   ],
   "source": [
    "for i in range(batch.shape[0]):\n",
    "    decoded_input_text = tokenizer.decode(batch[i].tolist())\n",
    "    print(f'{decoded_input_text} -> ')\n",
    "    decoded_output_text = tokenizer.decode(out[i].tolist())\n",
    "    print(f'{decoded_output_text}\\n')\n"
   ]
  },
  {
   "cell_type": "markdown",
   "id": "dd0871ef",
   "metadata": {},
   "source": [
    "### New session\n"
   ]
  },
  {
   "cell_type": "code",
   "execution_count": 107,
   "id": "721f3bee",
   "metadata": {},
   "outputs": [],
   "source": [
    "inputs = torch.tensor([[16833, 3626, 6100],   # [\"every effort moves\",\n",
    "                       [40,    1107, 588]])   #  \"I really like\"]\n",
    "\n",
    "targets = torch.tensor([[3626, 6100, 345  ],  # [\" effort moves you\",\n",
    "                        [1107,  588, 11311]]) #  \" really like chocolate\"]"
   ]
  },
  {
   "cell_type": "code",
   "execution_count": 108,
   "id": "8b8ecd28",
   "metadata": {},
   "outputs": [
    {
     "name": "stdout",
     "output_type": "stream",
     "text": [
      "tensor([[[3.1274e-04, 2.5623e-03, 1.1770e-05,  ..., 8.0163e-06,\n",
      "          1.1073e-05, 1.2266e-05],\n",
      "         [2.8434e-04, 2.7478e-03, 1.1672e-05,  ..., 7.8042e-06,\n",
      "          1.0410e-05, 1.1475e-05],\n",
      "         [3.0494e-04, 2.6948e-03, 1.3192e-05,  ..., 8.0700e-06,\n",
      "          1.0900e-05, 1.2331e-05]],\n",
      "\n",
      "        [[2.9404e-04, 2.5410e-03, 1.1967e-05,  ..., 8.2368e-06,\n",
      "          1.1531e-05, 1.2314e-05],\n",
      "         [2.8790e-04, 2.6150e-03, 1.1283e-05,  ..., 8.1150e-06,\n",
      "          1.0303e-05, 1.1952e-05],\n",
      "         [2.9499e-04, 2.5568e-03, 1.2054e-05,  ..., 7.9880e-06,\n",
      "          1.0893e-05, 1.2080e-05]]])\n"
     ]
    }
   ],
   "source": [
    "with torch.no_grad():\n",
    "    logits = model(inputs)\n",
    "\n",
    "probas = torch.softmax(logits,dim=-1)\n",
    "print(probas)"
   ]
  },
  {
   "cell_type": "code",
   "execution_count": 109,
   "id": "b1a4199d",
   "metadata": {},
   "outputs": [
    {
     "name": "stdout",
     "output_type": "stream",
     "text": [
      "Token IDs: \n",
      " tensor([[[ 11],\n",
      "         [198],\n",
      "         [ 13]],\n",
      "\n",
      "        [[ 11],\n",
      "         [ 11],\n",
      "         [ 13]]])\n"
     ]
    }
   ],
   "source": [
    "token_ids = torch.argmax(probas,dim=-1,keepdim=True)\n",
    "print(f'Token IDs: \\n {token_ids}')"
   ]
  },
  {
   "cell_type": "code",
   "execution_count": 110,
   "id": "df1063ca",
   "metadata": {},
   "outputs": [],
   "source": [
    "import tiktoken\n",
    "\n",
    "def text_to_token_ids(text, tokenizer):\n",
    "    encoded = tokenizer.encode(text, allowed_special={'<|endoftext|>'})\n",
    "    encoded_tensor = torch.tensor(encoded).unsqueeze(0) # add batch dimension\n",
    "    return encoded_tensor\n",
    "\n",
    "def token_ids_to_text(token_ids, tokenizer):\n",
    "    flat = token_ids.squeeze(0) # remove batch dimension\n",
    "    return tokenizer.decode(flat.tolist())\n"
   ]
  },
  {
   "cell_type": "code",
   "execution_count": 111,
   "id": "777dde59",
   "metadata": {},
   "outputs": [
    {
     "name": "stdout",
     "output_type": "stream",
     "text": [
      "Target batch 1: effort moves you\n",
      "Output batch 1:,\n",
      ".\n"
     ]
    }
   ],
   "source": [
    "print(f'Target batch 1:{token_ids_to_text(targets[0],tokenizer=tokenizer)}')\n",
    "print(f'Output batch 1:{token_ids_to_text(token_ids[0].flatten(),tokenizer=tokenizer)}')"
   ]
  },
  {
   "cell_type": "code",
   "execution_count": 112,
   "id": "a39c2c11",
   "metadata": {},
   "outputs": [
    {
     "data": {
      "text/plain": [
       "torch.Size([2, 3])"
      ]
     },
     "execution_count": 112,
     "metadata": {},
     "output_type": "execute_result"
    }
   ],
   "source": [
    "targets.shape"
   ]
  },
  {
   "cell_type": "code",
   "execution_count": 113,
   "id": "3160d57a",
   "metadata": {},
   "outputs": [
    {
     "name": "stdout",
     "output_type": "stream",
     "text": [
      "Probabilities for Text 1: tensor([3.9819e-05, 1.3841e-05, 5.2715e-04])\n",
      "Probabilities for Text 2: tensor([2.2943e-04, 7.0857e-05, 6.0629e-06])\n",
      "tensor([3.9819e-05, 1.3841e-05, 5.2715e-04, 2.2943e-04, 7.0857e-05, 6.0629e-06])\n"
     ]
    }
   ],
   "source": [
    "output_probas_list = []\n",
    "for text_idx in range(targets.shape[0]):\n",
    "    target_probas_i = probas[text_idx, [0,1,2], targets[text_idx]]\n",
    "    output_probas_list.append(target_probas_i)\n",
    "    print(f\"Probabilities for Text {text_idx+1}: {target_probas_i}\")\n",
    "\n",
    "final_tensor = torch.cat(output_probas_list)\n",
    "print(final_tensor)"
   ]
  },
  {
   "cell_type": "code",
   "execution_count": 114,
   "id": "b5e661e3",
   "metadata": {},
   "outputs": [
    {
     "name": "stdout",
     "output_type": "stream",
     "text": [
      "tensor([-10.1312, -11.1878,  -7.5480,  -8.3799,  -9.5548, -12.0133])\n"
     ]
    }
   ],
   "source": [
    "log_probas = torch.log(torch.cat(output_probas_list))\n",
    "print(log_probas)"
   ]
  },
  {
   "cell_type": "code",
   "execution_count": 115,
   "id": "542617dc",
   "metadata": {},
   "outputs": [
    {
     "name": "stdout",
     "output_type": "stream",
     "text": [
      "tensor(-9.8025)\n"
     ]
    }
   ],
   "source": [
    "avg_log_probas = torch.mean(log_probas)\n",
    "print(avg_log_probas)"
   ]
  },
  {
   "cell_type": "code",
   "execution_count": 116,
   "id": "ee04cc79",
   "metadata": {},
   "outputs": [
    {
     "name": "stdout",
     "output_type": "stream",
     "text": [
      "tensor(9.8025)\n"
     ]
    }
   ],
   "source": [
    "neg_avg_log_probas = avg_log_probas*-1\n",
    "print(neg_avg_log_probas)"
   ]
  },
  {
   "cell_type": "code",
   "execution_count": 117,
   "id": "9266ee4c",
   "metadata": {},
   "outputs": [
    {
     "name": "stdout",
     "output_type": "stream",
     "text": [
      "tensor(9.8025)\n"
     ]
    }
   ],
   "source": [
    "loss = torch.nn.functional.cross_entropy(logits.flatten(0,1),targets.flatten())\n",
    "print(loss)"
   ]
  },
  {
   "cell_type": "code",
   "execution_count": 118,
   "id": "4dcff272",
   "metadata": {},
   "outputs": [
    {
     "name": "stdout",
     "output_type": "stream",
     "text": [
      "Perplexity score: 18079.34765625\n"
     ]
    }
   ],
   "source": [
    "print(f'Perplexity score: {torch.exp(loss)}')"
   ]
  },
  {
   "cell_type": "markdown",
   "id": "a64c7685",
   "metadata": {},
   "source": [
    "### Training Iterations"
   ]
  },
  {
   "cell_type": "code",
   "execution_count": 119,
   "id": "3974c943",
   "metadata": {},
   "outputs": [],
   "source": [
    "import os\n",
    "import urllib.request\n",
    "\n",
    "file_path = \"the-verdict.txt\"\n",
    "url = \"https://raw.githubusercontent.com/rasbt/LLMs-from-scratch/main/ch02/01_main-chapter-code/the-verdict.txt\"\n",
    "\n",
    "if not os.path.exists(file_path):\n",
    "    with urllib.request.urlopen(url) as response:\n",
    "        text_data = response.read().decode('utf-8')\n",
    "    with open(file_path, \"w\", encoding=\"utf-8\") as file:\n",
    "        file.write(text_data)\n",
    "else:\n",
    "    with open(file_path, \"r\", encoding=\"utf-8\") as file:\n",
    "        text_data = file.read()"
   ]
  },
  {
   "cell_type": "code",
   "execution_count": 120,
   "id": "3da5020a",
   "metadata": {},
   "outputs": [
    {
     "name": "stdout",
     "output_type": "stream",
     "text": [
      "I HAD always thought Jack Gisburn rather a cheap genius--though a good fellow enough--so it was no \n"
     ]
    }
   ],
   "source": [
    "# First 100 characters\n",
    "print(text_data[:99])"
   ]
  },
  {
   "cell_type": "code",
   "execution_count": 121,
   "id": "bbc53437",
   "metadata": {},
   "outputs": [
    {
     "data": {
      "text/plain": [
       "20479"
      ]
     },
     "execution_count": 121,
     "metadata": {},
     "output_type": "execute_result"
    }
   ],
   "source": [
    "len(text_data)"
   ]
  },
  {
   "cell_type": "code",
   "execution_count": 122,
   "id": "33a02d45",
   "metadata": {},
   "outputs": [],
   "source": [
    "import tiktoken\n",
    "tokenizer= tiktoken.get_encoding(\"gpt2\")"
   ]
  },
  {
   "cell_type": "code",
   "execution_count": 123,
   "id": "99accf51",
   "metadata": {},
   "outputs": [
    {
     "name": "stdout",
     "output_type": "stream",
     "text": [
      "Characters: 20479\n",
      "Tokens: 5145\n"
     ]
    }
   ],
   "source": [
    "total_characters = len(text_data)\n",
    "total_tokens = len(tokenizer.encode(text_data))\n",
    "\n",
    "print(\"Characters:\", total_characters)\n",
    "print(\"Tokens:\", total_tokens)"
   ]
  },
  {
   "cell_type": "code",
   "execution_count": 124,
   "id": "be784c46",
   "metadata": {},
   "outputs": [],
   "source": [
    "# Train/validation ratio\n",
    "train_ratio = 0.90\n",
    "split_idx = int(train_ratio * len(text_data))\n",
    "train_data = text_data[:split_idx]\n",
    "val_data = text_data[split_idx:]\n",
    "\n",
    "\n",
    "torch.manual_seed(123)\n",
    "\n",
    "train_loader = dataloader_func(\n",
    "    train_data,\n",
    "    batch_size=2,\n",
    "    context_len=GPT_CONFIG_124M[\"context_len\"],\n",
    "    stride=GPT_CONFIG_124M[\"context_len\"],\n",
    "    drop_last=True,\n",
    "    shuffle=True,\n",
    "    num_worker=0\n",
    ")\n",
    "\n",
    "val_loader = dataloader_func(\n",
    "    val_data,\n",
    "    batch_size=2,\n",
    "    context_len=GPT_CONFIG_124M[\"context_len\"],\n",
    "    stride=GPT_CONFIG_124M[\"context_len\"],\n",
    "    drop_last=False,\n",
    "    shuffle=False,\n",
    "    num_worker=0\n",
    ")"
   ]
  },
  {
   "cell_type": "code",
   "execution_count": 125,
   "id": "9508c6d7",
   "metadata": {},
   "outputs": [],
   "source": [
    "# Sanity check\n",
    "\n",
    "if total_tokens * (train_ratio) < GPT_CONFIG_124M[\"context_len\"]:\n",
    "    print(\"Not enough tokens for the training loader. \"\n",
    "          \"Try to lower the `GPT_CONFIG_124M['context_len']` or \"\n",
    "          \"increase the `training_ratio`\")\n",
    "\n",
    "if total_tokens * (1-train_ratio) < GPT_CONFIG_124M[\"context_len\"]:\n",
    "    print(\"Not enough tokens for the validation loader. \"\n",
    "          \"Try to lower the `GPT_CONFIG_124M['context_len']` or \"\n",
    "          \"decrease the `training_ratio`\")"
   ]
  },
  {
   "cell_type": "code",
   "execution_count": 126,
   "id": "113f1dba",
   "metadata": {},
   "outputs": [
    {
     "name": "stdout",
     "output_type": "stream",
     "text": [
      "Train loader:\n",
      "torch.Size([2, 256]) torch.Size([2, 256])\n",
      "torch.Size([2, 256]) torch.Size([2, 256])\n",
      "torch.Size([2, 256]) torch.Size([2, 256])\n",
      "torch.Size([2, 256]) torch.Size([2, 256])\n",
      "torch.Size([2, 256]) torch.Size([2, 256])\n",
      "torch.Size([2, 256]) torch.Size([2, 256])\n",
      "torch.Size([2, 256]) torch.Size([2, 256])\n",
      "torch.Size([2, 256]) torch.Size([2, 256])\n",
      "torch.Size([2, 256]) torch.Size([2, 256])\n",
      "\n",
      "Validation loader:\n",
      "torch.Size([2, 256]) torch.Size([2, 256])\n"
     ]
    }
   ],
   "source": [
    "print(\"Train loader:\")\n",
    "for x, y in train_loader:\n",
    "    print(x.shape, y.shape)\n",
    "\n",
    "print(\"\\nValidation loader:\")\n",
    "for x, y in val_loader:\n",
    "    print(x.shape, y.shape)"
   ]
  },
  {
   "cell_type": "code",
   "execution_count": 127,
   "id": "a8268ead",
   "metadata": {},
   "outputs": [
    {
     "name": "stdout",
     "output_type": "stream",
     "text": [
      "Training tokens: 4608\n",
      "Validation tokens: 512\n",
      "All tokens: 5120\n"
     ]
    }
   ],
   "source": [
    "train_tokens = 0\n",
    "for input_batch, target_batch in train_loader:\n",
    "    train_tokens += input_batch.numel()\n",
    "\n",
    "val_tokens = 0\n",
    "for input_batch, target_batch in val_loader:\n",
    "    val_tokens += input_batch.numel()\n",
    "\n",
    "print(\"Training tokens:\", train_tokens)\n",
    "print(\"Validation tokens:\", val_tokens)\n",
    "print(\"All tokens:\", train_tokens + val_tokens)"
   ]
  },
  {
   "cell_type": "code",
   "execution_count": 128,
   "id": "07523495",
   "metadata": {},
   "outputs": [],
   "source": [
    "def calc_loss_batch(input_batch, target_batch, model, device):\n",
    "    input_batch, target_batch = input_batch.to(device), target_batch.to(device)\n",
    "    logits = model(input_batch)\n",
    "    loss = torch.nn.functional.cross_entropy(logits.flatten(0, 1), target_batch.flatten())\n",
    "    return loss\n",
    "\n",
    "\n",
    "def calc_loss_loader(data_loader, model, device, num_batches=None):\n",
    "    total_loss = 0.\n",
    "    if len(data_loader) == 0:\n",
    "        return float(\"nan\")\n",
    "    elif num_batches is None:\n",
    "        num_batches = len(data_loader)\n",
    "    else:\n",
    "        # Reduce the number of batches to match the total number of batches in the data loader\n",
    "        # if num_batches exceeds the number of batches in the data loader\n",
    "        num_batches = min(num_batches, len(data_loader))\n",
    "    for i, (input_batch, target_batch) in enumerate(data_loader):\n",
    "        if i < num_batches:\n",
    "            loss = calc_loss_batch(input_batch, target_batch, model, device)\n",
    "            total_loss += loss.item()\n",
    "        else:\n",
    "            break\n",
    "    return total_loss / num_batches"
   ]
  },
  {
   "cell_type": "code",
   "execution_count": 129,
   "id": "7bb703da",
   "metadata": {},
   "outputs": [
    {
     "name": "stdout",
     "output_type": "stream",
     "text": [
      "Training loss: 7.288107395172119\n",
      "Validation loss: 7.541026592254639\n"
     ]
    }
   ],
   "source": [
    "device = torch.device(\"cuda\" if torch.cuda.is_available() else \"cpu\")\n",
    "\n",
    "# Note:\n",
    "# Uncommenting the following lines will allow the code to run on Apple Silicon chips, if applicable,\n",
    "# which is approximately 2x faster than on an Apple CPU (as measured on an M3 MacBook Air).\n",
    "# However, the resulting loss values may be slightly different.\n",
    "\n",
    "#if torch.cuda.is_available():\n",
    "#    device = torch.device(\"cuda\")\n",
    "#elif torch.backends.mps.is_available():\n",
    "#    device = torch.device(\"mps\")\n",
    "#else:\n",
    "#    device = torch.device(\"cpu\")\n",
    "#\n",
    "# print(f\"Using {device} device.\")\n",
    "\n",
    "\n",
    "model.to(device) # no assignment model = model.to(device) necessary for nn.Module classes\n",
    "\n",
    "\n",
    "torch.manual_seed(123) # For reproducibility due to the shuffling in the data loader\n",
    "\n",
    "with torch.no_grad(): # Disable gradient tracking for efficiency because we are not training, yet\n",
    "    train_loss = calc_loss_loader(train_loader, model, device)\n",
    "    val_loss = calc_loss_loader(val_loader, model, device)\n",
    "\n",
    "print(\"Training loss:\", train_loss)\n",
    "print(\"Validation loss:\", val_loss)"
   ]
  },
  {
   "cell_type": "code",
   "execution_count": 130,
   "id": "2a9d4c60",
   "metadata": {},
   "outputs": [],
   "source": [
    "def evaluate_model(model,train_loader,val_loader,device,eval_iter):\n",
    "    model.eval()\n",
    "    with torch.no_grad():\n",
    "        train_loss = calc_loss_loader(train_loader,model,device,num_batches=eval_iter)\n",
    "        val_loss = calc_loss_loader(val_loader,model,device,num_batches=eval_iter)\n",
    "    model.train()\n",
    "    return train_loss,val_loss"
   ]
  },
  {
   "cell_type": "code",
   "execution_count": 131,
   "id": "5eae46f8",
   "metadata": {},
   "outputs": [],
   "source": [
    "def generate_and_print_sample(model, tokenizer, device, start_context):\n",
    "    model.eval()\n",
    "    context_size = model.pos_emb.weight.shape[0]\n",
    "    encoded = text_to_token_ids(start_context, tokenizer).to(device)\n",
    "    with torch.no_grad():\n",
    "        token_ids = generate_text_simple(\n",
    "            model=model, batch=encoded,temperature=1.4,top_k=25,\n",
    "            max_new_tokens=50, context_size=context_size\n",
    "        )\n",
    "    decoded_text = token_ids_to_text(token_ids, tokenizer)\n",
    "    print(decoded_text.replace(\"\\n\", \" \"))  # Compact print format\n",
    "    model.train()"
   ]
  },
  {
   "cell_type": "code",
   "execution_count": 132,
   "id": "1af1ee29",
   "metadata": {},
   "outputs": [],
   "source": [
    "def train_model_simple(model, train_loader, val_loader, optimizer, device, num_epochs,\n",
    "                       eval_freq, eval_iter, start_context, tokenizer):\n",
    "    # Initialize lists to track losses and tokens seen\n",
    "    train_losses, val_losses, track_tokens_seen = [], [], []\n",
    "    tokens_seen, global_step = 0, -1\n",
    "\n",
    "    # Main training loop\n",
    "    for epoch in range(num_epochs):\n",
    "        model.train()  # Set model to training mode\n",
    "        \n",
    "        for input_batch, target_batch in train_loader:\n",
    "            optimizer.zero_grad() # Reset loss gradients from previous batch iteration\n",
    "            loss = calc_loss_batch(input_batch, target_batch, model, device)\n",
    "            loss.backward() # Calculate loss gradients\n",
    "            optimizer.step() # Update model weights using loss gradients\n",
    "            tokens_seen += input_batch.numel() # Returns the total number of elements (or tokens) in the input_batch.\n",
    "            global_step += 1\n",
    "\n",
    "            # Optional evaluation step\n",
    "            if global_step % eval_freq == 0: \n",
    "                train_loss, val_loss = evaluate_model(\n",
    "                    model, train_loader, val_loader, device, eval_iter)\n",
    "                train_losses.append(train_loss)\n",
    "                val_losses.append(val_loss)\n",
    "                track_tokens_seen.append(tokens_seen)\n",
    "                print(f\"Ep {epoch+1} (Step {global_step:06d}): \"\n",
    "                      f\"Train loss {train_loss:.3f}, Val loss {val_loss:.3f}\")\n",
    "\n",
    "        # Print a sample text after each epoch\n",
    "        generate_and_print_sample(\n",
    "            model, tokenizer, device, start_context\n",
    "        )\n",
    "\n",
    "    return train_losses, val_losses, track_tokens_seen"
   ]
  },
  {
   "cell_type": "code",
   "execution_count": 133,
   "id": "08813424",
   "metadata": {},
   "outputs": [
    {
     "name": "stdout",
     "output_type": "stream",
     "text": [
      "Ep 1 (Step 000000): Train loss 9.856, Val loss 10.163\n",
      "Ep 1 (Step 000005): Train loss 8.235, Val loss 8.363\n",
      "Every effort moves you--, of he. the he to his was;.,. I the. he of to the,. ---- to, I the he,.. .  ,--- was to it--, it  of,\n",
      "Ep 2 (Step 000010): Train loss 6.886, Val loss 7.160\n",
      "Ep 2 (Step 000015): Train loss 6.269, Val loss 6.677\n",
      "Every effort moves you had the-\"-- he in a that,--, the \"\",,, in had his-- to to it . of\" I, had with\" my his in\" the\",. him and, he , \" the\n",
      "Ep 3 (Step 000020): Train loss 6.055, Val loss 6.638\n",
      "Ep 3 (Step 000025): Train loss 5.993, Val loss 6.669\n",
      "Every effort moves you G I, to G. of a \" to a a, to the's her on had  of a \"--,, the of the. his and.'s his  on.'s and.\" \", of that- he  \n",
      "Ep 4 (Step 000030): Train loss 5.941, Val loss 6.689\n",
      "Ep 4 (Step 000035): Train loss 5.892, Val loss 6.772\n",
      "Every effort moves you. . the, had to was, was of of to it a- that was.     \" of the I, the- to, of the it his that and the had, he as of the to of the-- had\n",
      "Ep 5 (Step 000040): Train loss 5.516, Val loss 6.622\n",
      "Every effort moves you I I was his it was him that was \"'t hisI had my that was--_ of me; he his hisburn I was in he it- was _-- \" was that to it me the had, with that was _ him--\n",
      "Ep 6 (Step 000045): Train loss 6.293, Val loss 7.391\n",
      "Ep 6 (Step 000050): Train loss 5.468, Val loss 6.745\n",
      "Every effort moves you and in so a had that aburn he had the end Jack for had:\"He to see had that in so was was aburn's up his and I was the air had \" the Riv had theor had: \"burn to \" and\n",
      "Ep 7 (Step 000055): Train loss 4.933, Val loss 6.408\n",
      "Ep 7 (Step 000060): Train loss 4.667, Val loss 6.380\n",
      "Every effort moves you \" Jack \" that he had a. I, a--asburn a up and as it to to the reason, one of it, and to the.\" \"Oh, with a--I, on him's to? of the tot in\n",
      "Ep 8 (Step 000065): Train loss 4.502, Val loss 6.379\n",
      "Ep 8 (Step 000070): Train loss 4.126, Val loss 6.304\n",
      "Every effort moves you \". And, and as he--asisburn had \" that he had to: \"and, I--his, and you\" had the first, he was _ had Mrs. And a to her--it \"and one of the picture\n",
      "Ep 9 (Step 000075): Train loss 3.804, Val loss 6.219\n",
      "Ep 9 (Step 000080): Train loss 3.529, Val loss 6.218\n",
      "Every effort moves you.   \" I said, I had been to hishis the \" her eyes--so, on the house the last and one--his's him his Gisburn: him, and my the honour when his head out's the sketch\n",
      "Ep 10 (Step 000085): Train loss 3.198, Val loss 6.235\n",
      "Every effort moves you a to put, the latter, I don.  \"Howburn's a little--it.\"  \"Oh, he have about the Riv and I looked up he had always, in I had a little \" his glory a little the\n",
      "Training completed in 24.48 minutes.\n"
     ]
    }
   ],
   "source": [
    "# Note:\n",
    "# Uncomment the following code to calculate the execution time\n",
    "import time\n",
    "start_time = time.time()\n",
    "\n",
    "torch.manual_seed(123)\n",
    "model = GPT_Model(GPT_CONFIG_124M)\n",
    "model.to(device)\n",
    "optimizer = torch.optim.AdamW(model.parameters(), lr=0.0004, weight_decay=0.1)\n",
    "\n",
    "num_epochs = 10\n",
    "train_losses, val_losses, tokens_seen = train_model_simple(\n",
    "    model, train_loader, val_loader, optimizer, device,\n",
    "    num_epochs=num_epochs, eval_freq=5, eval_iter=5,\n",
    "    start_context=\"Every effort moves you\", tokenizer=tokenizer\n",
    ")\n",
    "\n",
    "# Note:\n",
    "# Uncomment the following code to show the execution time\n",
    "end_time = time.time()\n",
    "execution_time_minutes = (end_time - start_time) / 60\n",
    "print(f\"Training completed in {execution_time_minutes:.2f} minutes.\")"
   ]
  },
  {
   "cell_type": "code",
   "execution_count": 134,
   "id": "96768b22",
   "metadata": {},
   "outputs": [
    {
     "data": {
      "image/png": "[encoded data removed]",
      "text/plain": [
       "<Figure size 500x300 with 2 Axes>"
      ]
     },
     "metadata": {},
     "output_type": "display_data"
    }
   ],
   "source": [
    "import matplotlib.pyplot as plt\n",
    "from matplotlib.ticker import MaxNLocator\n",
    "\n",
    "\n",
    "def plot_losses(epochs_seen, tokens_seen, train_losses, val_losses):\n",
    "    fig, ax1 = plt.subplots(figsize=(5, 3))\n",
    "\n",
    "    # Plot training and validation loss against epochs\n",
    "    ax1.plot(epochs_seen, train_losses, label=\"Training loss\")\n",
    "    ax1.plot(epochs_seen, val_losses, linestyle=\"-.\", label=\"Validation loss\")\n",
    "    ax1.set_xlabel(\"Epochs\")\n",
    "    ax1.set_ylabel(\"Loss\")\n",
    "    ax1.legend(loc=\"upper right\")\n",
    "    ax1.xaxis.set_major_locator(MaxNLocator(integer=True))  # only show integer labels on x-axis\n",
    "\n",
    "    # Create a second x-axis for tokens seen\n",
    "    ax2 = ax1.twiny()  # Create a second x-axis that shares the same y-axis\n",
    "    ax2.plot(tokens_seen, train_losses, alpha=0)  # Invisible plot for aligning ticks\n",
    "    ax2.set_xlabel(\"Tokens seen\")\n",
    "\n",
    "    fig.tight_layout()  # Adjust layout to make room\n",
    "    plt.savefig(\"loss-plot.pdf\")\n",
    "    plt.show()\n",
    "\n",
    "epochs_tensor = torch.linspace(0, num_epochs, len(train_losses))\n",
    "plot_losses(epochs_tensor, tokens_seen, train_losses, val_losses)"
   ]
  },
  {
   "cell_type": "code",
   "execution_count": 136,
   "id": "5abb11a1",
   "metadata": {},
   "outputs": [],
   "source": [
    "torch.save({\n",
    "    \"model_state_dict\": model.state_dict(),\n",
    "    \"optimizer_state_dict\": optimizer.state_dict()\n",
    "}, \"model_and_optimizer.pth\")\n"
   ]
  }
 ],
 "metadata": {
  "kernelspec": {
   "display_name": ".venv (3.12.3)",
   "language": "python",
   "name": "python3"
  },
  "language_info": {
   "codemirror_mode": {
    "name": "ipython",
    "version": 3
   },
   "file_extension": ".py",
   "mimetype": "text/x-python",
   "name": "python",
   "nbconvert_exporter": "python",
   "pygments_lexer": "ipython3",
   "version": "3.12.3"
  }
 },
 "nbformat": 4,
 "nbformat_minor": 5
}
